{
  "cells": [
    {
      "cell_type": "markdown",
      "metadata": {
        "id": "e3fqAYWBmnhi"
      },
      "source": [
        "### **Import required libraries and load the dataset**"
      ]
    },
    {
      "cell_type": "code",
      "execution_count": 3,
      "metadata": {
        "id": "e6IXI_E8aS4V"
      },
      "outputs": [],
      "source": [
        "import tensorflow as tf\n",
        "from tensorflow.keras.applications import InceptionV3\n",
        "from tensorflow.keras.preprocessing.image import ImageDataGenerator\n",
        "from tensorflow.keras.layers import Dense, GlobalAveragePooling2D\n",
        "from tensorflow.keras.models import Model\n",
        "from tensorflow.keras.optimizers import Adam\n",
        "import tensorflow_datasets as tfds\n",
        "\n",
        "# Load the Dogs vs. Cats dataset\n",
        "(train_dataset, test_dataset), info = tfds.load('cats_vs_dogs', split=['train[:80%]', 'train[80%:]'], with_info=True, as_supervised=True)"
      ]
    },
    {
      "cell_type": "markdown",
      "metadata": {
        "id": "IMWUeTBMmu12"
      },
      "source": [
        "### **Preprocess the inputs, map and batch them**"
      ]
    },
    {
      "cell_type": "code",
      "execution_count": 4,
      "metadata": {
        "id": "xj_JHlG5mCjN"
      },
      "outputs": [],
      "source": [
        "# Prepare data generators\n",
        "def preprocess_image(image, label):\n",
        "    image = tf.image.resize(image, (224, 224))\n",
        "    image = tf.keras.applications.inception_v3.preprocess_input(image)\n",
        "    return image, label\n",
        "\n",
        "train_dataset = train_dataset.map(preprocess_image).batch(32).prefetch(tf.data.experimental.AUTOTUNE)\n",
        "test_dataset = test_dataset.map(preprocess_image).batch(32).prefetch(tf.data.experimental.AUTOTUNE)\n",
        "\n"
      ]
    },
    {
      "cell_type": "markdown",
      "metadata": {
        "id": "Qp2uBcQWm6oo"
      },
      "source": [
        "### **Load the InceptionV3 model, freeze it, and add customized upper levels, then train the model**"
      ]
    },
    {
      "cell_type": "code",
      "execution_count": 5,
      "metadata": {
        "colab": {
          "base_uri": "https://localhost:8080/"
        },
        "id": "3FYnSLsqmE_C",
        "outputId": "2445e9a8-e813-44a9-80d2-4378a4d282a5"
      },
      "outputs": [
        {
          "name": "stdout",
          "output_type": "stream",
          "text": [
            "Epoch 1/10\n",
            "582/582 [==============================] - 60s 95ms/step - loss: 0.2034 - accuracy: 0.9331 - val_loss: 0.0724 - val_accuracy: 0.9860\n",
            "Epoch 2/10\n",
            "582/582 [==============================] - 52s 90ms/step - loss: 0.0613 - accuracy: 0.9844 - val_loss: 0.0454 - val_accuracy: 0.9886\n",
            "Epoch 3/10\n",
            "582/582 [==============================] - 52s 90ms/step - loss: 0.0454 - accuracy: 0.9869 - val_loss: 0.0366 - val_accuracy: 0.9908\n",
            "Epoch 4/10\n",
            "582/582 [==============================] - 53s 90ms/step - loss: 0.0386 - accuracy: 0.9888 - val_loss: 0.0325 - val_accuracy: 0.9910\n",
            "Epoch 5/10\n",
            "582/582 [==============================] - 52s 89ms/step - loss: 0.0347 - accuracy: 0.9893 - val_loss: 0.0302 - val_accuracy: 0.9914\n",
            "Epoch 6/10\n",
            "582/582 [==============================] - 54s 92ms/step - loss: 0.0321 - accuracy: 0.9898 - val_loss: 0.0288 - val_accuracy: 0.9914\n",
            "Epoch 7/10\n",
            "582/582 [==============================] - 51s 88ms/step - loss: 0.0302 - accuracy: 0.9901 - val_loss: 0.0279 - val_accuracy: 0.9914\n",
            "Epoch 8/10\n",
            "582/582 [==============================] - 52s 89ms/step - loss: 0.0288 - accuracy: 0.9902 - val_loss: 0.0273 - val_accuracy: 0.9916\n",
            "Epoch 9/10\n",
            "582/582 [==============================] - 52s 89ms/step - loss: 0.0276 - accuracy: 0.9906 - val_loss: 0.0268 - val_accuracy: 0.9918\n",
            "Epoch 10/10\n",
            "582/582 [==============================] - 52s 90ms/step - loss: 0.0265 - accuracy: 0.9909 - val_loss: 0.0265 - val_accuracy: 0.9916\n"
          ]
        },
        {
          "data": {
            "text/plain": [
              "<keras.src.callbacks.History at 0x798b8011bfa0>"
            ]
          },
          "execution_count": 5,
          "metadata": {},
          "output_type": "execute_result"
        }
      ],
      "source": [
        "# Load the InceptionV3 model without the top layer\n",
        "base_model = InceptionV3(weights='imagenet', include_top=False)\n",
        "\n",
        "# Add new top layers for our specific problem\n",
        "x = base_model.output\n",
        "x = GlobalAveragePooling2D()(x)\n",
        "predictions = Dense(1, activation='sigmoid')(x)  # For binary classification\n",
        "\n",
        "# Define the new model\n",
        "model = Model(inputs=base_model.input, outputs=predictions)\n",
        "\n",
        "# Freeze the layers of the base model\n",
        "for layer in base_model.layers:\n",
        "    layer.trainable = False\n",
        "\n",
        "# Compile the model\n",
        "model.compile(optimizer=Adam(learning_rate=0.0001), loss='binary_crossentropy', metrics=['accuracy'])\n",
        "\n",
        "# Train the model\n",
        "model.fit(\n",
        "    train_dataset,\n",
        "    epochs=10,\n",
        "    validation_data=test_dataset\n",
        ")\n"
      ]
    },
    {
      "cell_type": "markdown",
      "metadata": {
        "id": "ZtUtMxOonJqJ"
      },
      "source": [
        "### **Evaluate model on the test set**"
      ]
    },
    {
      "cell_type": "code",
      "execution_count": 6,
      "metadata": {
        "colab": {
          "base_uri": "https://localhost:8080/"
        },
        "id": "IMtKy8UGmHR1",
        "outputId": "659813a5-9842-466a-c221-335910fa07e2"
      },
      "outputs": [
        {
          "name": "stdout",
          "output_type": "stream",
          "text": [
            "146/146 [==============================] - 10s 70ms/step - loss: 0.0265 - accuracy: 0.9916\n",
            "Test accuracy: 99.16%\n"
          ]
        }
      ],
      "source": [
        "# Evaluate the model\n",
        "loss, accuracy = model.evaluate(test_dataset)\n",
        "print(f'Test accuracy: {accuracy * 100:.2f}%')"
      ]
    }
  ],
  "metadata": {
    "accelerator": "GPU",
    "colab": {
      "gpuType": "T4",
      "provenance": []
    },
    "kernelspec": {
      "display_name": "Python 3",
      "name": "python3"
    },
    "language_info": {
      "name": "python"
    }
  },
  "nbformat": 4,
  "nbformat_minor": 0
}
